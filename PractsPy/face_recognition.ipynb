{
 "cells": [
  {
   "cell_type": "code",
   "execution_count": 3,
   "metadata": {},
   "outputs": [],
   "source": [
    "import face_recognition\n",
    "import cv2 as cv\n",
    "import numpy as np\n",
    "import matplotlib.pyplot as plt"
   ]
  },
  {
   "cell_type": "markdown",
   "metadata": {},
   "source": [
    "# Prueba"
   ]
  },
  {
   "cell_type": "code",
   "execution_count": 9,
   "metadata": {},
   "outputs": [],
   "source": [
    "image = face_recognition.load_image_file(\"imgs_for_face_rec/yo_hermano.jpg\")\n",
    "imageFordisp = cv.cvtColor(image, cv.COLOR_BGR2RGB)\n",
    "\n",
    "face_locations = face_recognition.face_locations(image)"
   ]
  },
  {
   "cell_type": "code",
   "execution_count": 11,
   "metadata": {},
   "outputs": [
    {
     "data": {
      "text/plain": [
       "-1"
      ]
     },
     "execution_count": 11,
     "metadata": {},
     "output_type": "execute_result"
    }
   ],
   "source": [
    "# diaplay face locations with opencv\n",
    "for face_location in face_locations:\n",
    "    top, right, bottom, left = face_location\n",
    "    cv.rectangle(imageFordisp, (left, top), (right, bottom), (0, 0, 255), 5)\n",
    "\n",
    "#display the image at 30% scale\n",
    "cv.imshow(\"Faces found\", imageFordisp)\n",
    "cv.imshow(\"Faces found\", cv.resize(imageFordisp, (0, 0), fx=0.2, fy=0.2))\n",
    "cv.waitKey(0)"
   ]
  },
  {
   "cell_type": "markdown",
   "metadata": {},
   "source": [
    "# identificar 2 caras (práctica)"
   ]
  },
  {
   "cell_type": "code",
   "execution_count": 2,
   "metadata": {},
   "outputs": [],
   "source": [
    "# Load a sample picture and learn how to recognize it.\n",
    "hermano = face_recognition.load_image_file(\"imgs_for_face_rec/hermano.jpg\")\n",
    "hermano_face_encoding = face_recognition.face_encodings(hermano)[0]\n",
    "\n",
    "# Load a second sample picture and learn how to recognize it.\n",
    "yo = face_recognition.load_image_file(\"imgs_for_face_rec/yo.jpg\")\n",
    "yo_face_encoding = face_recognition.face_encodings(yo)[0]\n",
    "\n",
    "# Create arrays of known face encodings and their names\n",
    "known_face_encodings = [\n",
    "    hermano_face_encoding,\n",
    "    yo_face_encoding\n",
    "]\n",
    "known_face_names = [\n",
    "    \"Hermano\",\n",
    "    \"Yo\"\n",
    "]\n",
    "\n",
    "# Initialize some variables\n",
    "face_locations = []\n",
    "face_encodings = []\n",
    "face_names = []"
   ]
  },
  {
   "cell_type": "code",
   "execution_count": 3,
   "metadata": {},
   "outputs": [
    {
     "data": {
      "text/plain": [
       "235"
      ]
     },
     "execution_count": 3,
     "metadata": {},
     "output_type": "execute_result"
    },
    {
     "ename": "",
     "evalue": "",
     "output_type": "error",
     "traceback": [
      "\u001b[1;31mThe Kernel crashed while executing code in the the current cell or a previous cell. Please review the code in the cell(s) to identify a possible cause of the failure. Click <a href='https://aka.ms/vscodeJupyterKernelCrash'>here</a> for more info. View Jupyter <a href='command:jupyter.viewOutput'>log</a> for further details."
     ]
    }
   ],
   "source": [
    "# image to identify faces in\n",
    "img_path = \"imgs_for_face_rec/yo_hermano.jpg\"\n",
    "#img_path = \"imgs_for_face_rec/hermano_obama.jpg\"\n",
    "#img_path = \"imgs_for_face_rec/yo_obama.jpg\"\n",
    "\n",
    "image = cv.imread(img_path)\n",
    "image = cv.resize(image, (0, 0), fx=0.3, fy=0.3)\n",
    "\n",
    "rgb_image = cv.cvtColor(image, cv.COLOR_BGR2RGB)\n",
    "\n",
    "face_locations = face_recognition.face_locations(rgb_image)\n",
    "face_encodings = face_recognition.face_encodings(rgb_image, face_locations)\n",
    "\n",
    "face_names = []\n",
    "for face_encoding in face_encodings:\n",
    "    # See if the face is a match for the known face(s)\n",
    "    matches = face_recognition.compare_faces(known_face_encodings, face_encoding)\n",
    "    name = \"Sepa la bola\"\n",
    "\n",
    "    face_distances = face_recognition.face_distance(known_face_encodings, face_encoding)\n",
    "    best_match_index = np.argmin(face_distances)\n",
    "    if matches[best_match_index]:\n",
    "        name = known_face_names[best_match_index]\n",
    "\n",
    "    face_names.append(name)\n",
    "\n",
    "# Display the results\n",
    "for (top, right, bottom, left), name in zip(face_locations, face_names):\n",
    "    # Draw a box around the face\n",
    "    cv.rectangle(image, (left, top), (right, bottom), (0, 0, 255), 2)\n",
    "\n",
    "    # Draw a label with a name below the face\n",
    "    cv.rectangle(image, (left, bottom - 35), (right, bottom), (0, 0, 255), cv.FILLED)\n",
    "    font = cv.FONT_HERSHEY_DUPLEX\n",
    "    cv.putText(image, name, (left + 6, bottom - 6), font, 0.5, (255, 255, 255), 1)\n",
    "\n",
    "# Display the resulting image\n",
    "cv.imshow('imagen', image)\n",
    "cv.waitKey(0)"
   ]
  },
  {
   "cell_type": "markdown",
   "metadata": {},
   "source": [
    "# lo mismo pero con puro open cv (me dio weba, no se pudo)"
   ]
  },
  {
   "cell_type": "code",
   "execution_count": 8,
   "metadata": {},
   "outputs": [],
   "source": [
    "imgColor = cv.imread('imgs_for_face_rec/hermano.jpg')\n",
    "img = imgColor.copy()\n",
    "img = cv.cvtColor(img, cv.COLOR_BGR2GRAY)\n",
    "\n",
    "template = cv.imread('imgs_for_face_rec/hermano_face.png',0)\n",
    "cv.imshow('template', template)\n",
    "w, h = template.shape[::-1]\n",
    "\n",
    "#img = img2.copy()\n",
    "# Apply template Matching\n",
    "res = cv.matchTemplate(img,template, cv.TM_CCOEFF)\n",
    "min_val, max_val, min_loc, max_loc = cv.minMaxLoc(res)\n",
    "top_left = max_loc\n",
    "bottom_right = (top_left[0] + w*4, top_left[1] + h*4)\n",
    "cv.rectangle(imgColor,top_left, bottom_right, (0,255,0), 10)\n",
    "\n",
    "imgColor = cv.resize(imgColor, (0, 0), fx=0.2, fy=0.2)\n",
    "cv.imshow('img',imgColor)\n",
    "cv.waitKey(0)\n",
    "cv.destroyAllWindows()"
   ]
  },
  {
   "cell_type": "code",
   "execution_count": 10,
   "metadata": {},
   "outputs": [
    {
     "data": {
      "text/plain": [
       "-1"
      ]
     },
     "execution_count": 10,
     "metadata": {},
     "output_type": "execute_result"
    }
   ],
   "source": [
    "imgColor = cv.imread('imgs_for_face_rec/yo_obama.jpg')\n",
    "imgColor = cv.resize(imgColor, (0, 0), fx=0.2, fy=0.2)\n",
    "\n",
    "img = imgColor.copy()\n",
    "img = cv.cvtColor(img, cv.COLOR_BGR2GRAY)\n",
    "\n",
    "template = cv.imread('imgs_for_face_rec/yo_face.png',0)\n",
    "cv.imshow('template', template)\n",
    "w, h = template.shape[::-1]\n",
    "\n",
    "#img = img2.copy()\n",
    "# Apply template Matching\n",
    "res = cv.matchTemplate(img,template, cv.TM_CCORR_NORMED)\n",
    "min_val, max_val, min_loc, max_loc = cv.minMaxLoc(res)\n",
    "top_left = max_loc\n",
    "bottom_right = (top_left[0] + w, top_left[1] + h)\n",
    "cv.rectangle(imgColor,top_left, bottom_right, (0,255,0), 3)\n",
    "\n",
    "cv.imshow('img',imgColor)\n",
    "cv.waitKey(0)"
   ]
  }
 ],
 "metadata": {
  "interpreter": {
   "hash": "767d51c1340bd893661ea55ea3124f6de3c7a262a8b4abca0554b478b1e2ff90"
  },
  "kernelspec": {
   "display_name": "Python 3.8.10 64-bit",
   "language": "python",
   "name": "python3"
  },
  "language_info": {
   "codemirror_mode": {
    "name": "ipython",
    "version": 3
   },
   "file_extension": ".py",
   "mimetype": "text/x-python",
   "name": "python",
   "nbconvert_exporter": "python",
   "pygments_lexer": "ipython3",
   "version": "3.8.10"
  },
  "orig_nbformat": 4
 },
 "nbformat": 4,
 "nbformat_minor": 2
}
